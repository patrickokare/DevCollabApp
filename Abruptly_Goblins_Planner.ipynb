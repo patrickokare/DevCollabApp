{
  "cells": [
    {
      "cell_type": "markdown",
      "metadata": {
        "id": "view-in-github",
        "colab_type": "text"
      },
      "source": [
        "<a href=\"https://colab.research.google.com/github/patrickokare/DevCollabApp/blob/master/Abruptly_Goblins_Planner.ipynb\" target=\"_parent\"><img src=\"https://colab.research.google.com/assets/colab-badge.svg\" alt=\"Open In Colab\"/></a>"
      ]
    },
    {
      "cell_type": "markdown",
      "metadata": {
        "id": "BMY0bt23bsr9"
      },
      "source": [
        "# Introduction\n",
        "\n",
        "Opening your comic book store, the Sorcery Society, has been a lifelong dream come true. You quickly diversified your shop offerings to include miniatures, plush toys, collectible card games, and board games. Eventually, the store became more a games store with a selection of this week's newest comic books and a small offering of graphic novel paperbacks. Completing your transformation means offering space for local tabletop gamers. They love to play their favorite RPG, \"Abruptly Goblins!\" and will happily pay you per chair to secure the space to do it. Unfortunately, planning the game night has fallen to you. If you pick the wrong night, not enough people will come and the game night will be cancelled. You decide it's best that you automate the game night selector to get the most people through the door. First you need to create a list of people who will be attending the game night.\n",
        "\n",
        "**Instructions**\n",
        "\n",
        "Create an empty list called `gamers`. This will be your list of people who are attending game night."
      ]
    },
    {
      "cell_type": "code",
      "execution_count": null,
      "metadata": {
        "id": "-6FKxTBHbsr_"
      },
      "outputs": [],
      "source": [
        "gamers = []"
      ]
    },
    {
      "cell_type": "markdown",
      "metadata": {
        "id": "WPPNn2-Mbsr_"
      },
      "source": [
        "Now we want to create a function that will update this list and add a new gamer to the this `gamers` list. Each `gamer` should be a dictionary with the following keys:\n",
        " - `\"name\"`: a string that contains the gamer's full or presumed name. E.g., \"Vicky Very\"\n",
        " - `\"availability\"`: a list of strings containing the names of the days of the week that the gamer is available. E.g., [\"Monday\", \"Thursday\", \"Sunday\"]\n",
        "\n",
        "**Instructions**\n",
        "\n",
        "Create a function called `add_gamer` that takes two parameters: `gamer` and `gamers_list`. The function should check that the argument passed to the `gamer` parameter has both `\"name\"` and a `\"availability\"` as keys and if so add `gamer` to `gamers_list`."
      ]
    },
    {
      "cell_type": "code",
      "execution_count": null,
      "metadata": {
        "id": "8T4OzMpwbsr_"
      },
      "outputs": [],
      "source": [
        "def add_gamer(gamer, gamers_list):\n",
        "  if \"name\" in gamer.keys() and  \"availability\" in gamer.keys():\n",
        "    gamers_list.append(gamer)\n",
        "  else:\n",
        "    print(\"Gamer missing critical information\")\n",
        "  return gamers_list"
      ]
    },
    {
      "cell_type": "markdown",
      "metadata": {
        "id": "3n_yPEPgbssA"
      },
      "source": [
        "Next we want to add our first gamer! Her name is Kimberly Warner and she's available on Mondays, Tuesdays, and Fridays.\n",
        "\n",
        "**Instructions**\n",
        "\n",
        "1. Create a dictionary called `kimberly` with the name and availability given above.\n",
        "2. Call `add_gamer` with `kimberly` as the first argument and `gamers` as the second."
      ]
    },
    {
      "cell_type": "code",
      "execution_count": null,
      "metadata": {
        "id": "c04-OeVQbssA",
        "colab": {
          "base_uri": "https://localhost:8080/"
        },
        "outputId": "4ec44265-0ce7-490a-cacd-8db87244f494"
      },
      "outputs": [
        {
          "output_type": "execute_result",
          "data": {
            "text/plain": [
              "[{'name': 'Kimberly Warner ', 'availability': ['Monday', 'Tuesday', 'Friday']}]"
            ]
          },
          "metadata": {},
          "execution_count": 3
        }
      ],
      "source": [
        "kimberly = {\n",
        "    \"name\": \"Kimberly Warner \",\n",
        "    \"availability\": [\"Monday\", \"Tuesday\", \"Friday\"]\n",
        "}\n",
        "add_gamer(kimberly, gamers)"
      ]
    },
    {
      "cell_type": "markdown",
      "metadata": {
        "id": "bbXVcjn1bssA"
      },
      "source": [
        "Great! Let's add a couple more gamers to the list!"
      ]
    },
    {
      "cell_type": "code",
      "execution_count": null,
      "metadata": {
        "id": "cawV9--PbssA",
        "colab": {
          "base_uri": "https://localhost:8080/"
        },
        "outputId": "06b07b05-b418-4892-df87-cbd8adc78b66"
      },
      "outputs": [
        {
          "output_type": "execute_result",
          "data": {
            "text/plain": [
              "[{'name': 'Kimberly Warner ', 'availability': ['Monday', 'Tuesday', 'Friday']},\n",
              " {'name': 'Thomas Nelson',\n",
              "  'availability': ['Tuesday', 'Thursday', 'Saturday']},\n",
              " {'name': 'Joyce Sellers',\n",
              "  'availability': ['Monday', 'Wednesday', 'Friday', 'Saturday']},\n",
              " {'name': 'Michelle Reyes',\n",
              "  'availability': ['Wednesday', 'Thursday', 'Sunday']},\n",
              " {'name': 'Stephen Adams', 'availability': ['Thursday', 'Saturday']},\n",
              " {'name': 'Joanne Lynn', 'availability': ['Monday', 'Thursday']},\n",
              " {'name': 'Latasha Bryan', 'availability': ['Monday', 'Sunday']},\n",
              " {'name': 'Crystal Brewer',\n",
              "  'availability': ['Thursday', 'Friday', 'Saturday']},\n",
              " {'name': 'James Barnes Jr.',\n",
              "  'availability': ['Tuesday', 'Wednesday', 'Thursday', 'Sunday']},\n",
              " {'name': 'Michel Trujillo',\n",
              "  'availability': ['Monday', 'Tuesday', 'Wednesday']}]"
            ]
          },
          "metadata": {},
          "execution_count": 4
        }
      ],
      "source": [
        "add_gamer({'name':'Thomas Nelson','availability': [\"Tuesday\", \"Thursday\", \"Saturday\"]}, gamers)\n",
        "add_gamer({'name':'Joyce Sellers','availability': [\"Monday\", \"Wednesday\", \"Friday\", \"Saturday\"]}, gamers)\n",
        "add_gamer({'name':'Michelle Reyes','availability': [\"Wednesday\", \"Thursday\", \"Sunday\"]}, gamers)\n",
        "add_gamer({'name':'Stephen Adams','availability': [\"Thursday\", \"Saturday\"]}, gamers)\n",
        "add_gamer({'name': 'Joanne Lynn', 'availability': [\"Monday\", \"Thursday\"]}, gamers)\n",
        "add_gamer({'name':'Latasha Bryan','availability': [\"Monday\", \"Sunday\"]}, gamers)\n",
        "add_gamer({'name':'Crystal Brewer','availability': [\"Thursday\", \"Friday\", \"Saturday\"]}, gamers)\n",
        "add_gamer({'name':'James Barnes Jr.','availability': [\"Tuesday\", \"Wednesday\", \"Thursday\", \"Sunday\"]}, gamers)\n",
        "add_gamer({'name':'Michel Trujillo','availability': [\"Monday\", \"Tuesday\", \"Wednesday\"]}, gamers)"
      ]
    },
    {
      "cell_type": "markdown",
      "metadata": {
        "id": "x_qHNL-9bssB"
      },
      "source": [
        "## Finding the perfect availability\n",
        "\n",
        "Now that we have a list of all of the people interested in game night, we want to be able to calculate which nights would have the most participation. First we need to create a frequency table which correlates each day of the week with gamer availability.\n",
        "\n",
        "**Instructions**\n",
        "\n",
        "Create a function called `build_daily_frequency_table` that takes no argument returns a dictionary with the days of the week as keys and `0`s for values. We'll be using this to count the availability per night. Call `build_daily_frequency_table` and save the results to a variable called `count_availability`."
      ]
    },
    {
      "cell_type": "code",
      "execution_count": null,
      "metadata": {
        "id": "MkQWSqtibssB"
      },
      "outputs": [],
      "source": [
        "def build_daily_frequency_table():\n",
        "\n",
        "  daysOfWeek = {\n",
        "      \"Sunday\":0,\n",
        "      \"Monday\":0,\n",
        "      \"Tuesday\":0,\n",
        "      \"Wednesday\":0,\n",
        "      \"Thursday\":0,\n",
        "      \"Friday\":0,\n",
        "      \"Saturday\":0\n",
        "                }\n",
        "  return daysOfWeek\n",
        "\n",
        "count_availability = build_daily_frequency_table()\n"
      ]
    },
    {
      "cell_type": "markdown",
      "metadata": {
        "id": "DhmgWtYSbssB"
      },
      "source": [
        "Next we need to count the number of people every night.\n",
        "\n",
        "**Instructions**\n",
        "\n",
        "Write a function called `calculate_availability` that takes a list of gamers as an argument `gamers_list` and a frequency table `available_frequency`. The function should iterate through each gamer in `gamers_list` and iterate through each day in the gamer's availability. For each day in the gamer's availability, add one to that date on the frequency table."
      ]
    },
    {
      "cell_type": "code",
      "execution_count": null,
      "metadata": {
        "id": "mvynM5aVbssB"
      },
      "outputs": [],
      "source": [
        "def calculate_availability(gamers_list, available_frequency):\n",
        "  for gamers in gamers_list:\n",
        "    for day in gamers['availability']:\n",
        "      available_frequency[day] += 1\n"
      ]
    },
    {
      "cell_type": "markdown",
      "metadata": {
        "id": "zqVsJ2DebssB"
      },
      "source": [
        "Now let's use these tools to find the best night to run Abruptly Goblins!\n",
        "\n",
        "**Instructions**\n",
        "\n",
        "Call `calculate_availability` with `gamers` and `count_availability`. Print out `count_availability` afterwards."
      ]
    },
    {
      "cell_type": "code",
      "execution_count": null,
      "metadata": {
        "scrolled": true,
        "id": "wqzqFcp-bssB",
        "colab": {
          "base_uri": "https://localhost:8080/"
        },
        "outputId": "0dc9f35b-0372-4cc6-9cde-5fd6e11f21ff"
      },
      "outputs": [
        {
          "output_type": "stream",
          "name": "stdout",
          "text": [
            "{'Sunday': 3, 'Monday': 5, 'Tuesday': 4, 'Wednesday': 4, 'Thursday': 6, 'Friday': 3, 'Saturday': 4}\n"
          ]
        }
      ],
      "source": [
        "calculate_availability(gamers, count_availability)\n",
        "print(count_availability)"
      ]
    },
    {
      "cell_type": "markdown",
      "metadata": {
        "id": "4J8znrPDbssB"
      },
      "source": [
        "Lastly we need a way to pick the day with the most available people to attend so that we can schedule game night on that night.\n",
        "\n",
        "**Instructions**\n",
        "\n",
        "Write a function `find_best_night` that takes a dictionary `availability_table` and returns the key with the highest number."
      ]
    },
    {
      "cell_type": "code",
      "execution_count": null,
      "metadata": {
        "id": "mglhE495bssB"
      },
      "outputs": [],
      "source": [
        "def find_best_night(availability_table):\n",
        "  max_count = 0\n",
        "  best_day = \" \"\n",
        "\n",
        "  for key, value in availability_table.items():\n",
        "    if value > max_count:\n",
        "      max_count = value\n",
        "      best_day = key\n",
        "  return best_day\n"
      ]
    },
    {
      "cell_type": "markdown",
      "metadata": {
        "id": "tNKyUEr4bssB"
      },
      "source": [
        "Now let's find the best day to host game night.\n",
        "\n",
        "**Instructions**\n",
        "\n",
        "Call `find_best_night` with `count_availability`, store the result in a variable called `game_night`.\n",
        "Print out `game_night` to find out which day it is."
      ]
    },
    {
      "cell_type": "code",
      "execution_count": null,
      "metadata": {
        "id": "HU7k3700bssB",
        "colab": {
          "base_uri": "https://localhost:8080/"
        },
        "outputId": "60b78ec3-760a-432d-80c7-9827d200ea3a"
      },
      "outputs": [
        {
          "output_type": "stream",
          "name": "stdout",
          "text": [
            "Thursday\n"
          ]
        }
      ],
      "source": [
        "game_night = find_best_night(count_availability)\n",
        "print(game_night)"
      ]
    },
    {
      "cell_type": "markdown",
      "metadata": {
        "id": "GExVFQy5bssB"
      },
      "source": [
        "And let's make a list of all of the people who are available that night.\n",
        "\n",
        "**Instructions**\n",
        "\n",
        "* Create a function `available_on_night` that takes two parameters: `gamers_list` and `day` and returns a list of people who are available on that particular day.\n",
        "* Call `available_on_night` with `gamers` and `game_night` and save the result into the variable `attending_game_night`.\n",
        "* Print `attending_game_night`."
      ]
    },
    {
      "cell_type": "code",
      "execution_count": null,
      "metadata": {
        "id": "2DTDRwf4bssB",
        "colab": {
          "base_uri": "https://localhost:8080/"
        },
        "outputId": "2c2f7dee-108c-41c2-ed96-c091cca99a88"
      },
      "outputs": [
        {
          "output_type": "stream",
          "name": "stdout",
          "text": [
            "[{'name': 'Thomas Nelson', 'availability': ['Tuesday', 'Thursday', 'Saturday']}, {'name': 'Michelle Reyes', 'availability': ['Wednesday', 'Thursday', 'Sunday']}, {'name': 'Stephen Adams', 'availability': ['Thursday', 'Saturday']}, {'name': 'Joanne Lynn', 'availability': ['Monday', 'Thursday']}, {'name': 'Crystal Brewer', 'availability': ['Thursday', 'Friday', 'Saturday']}, {'name': 'James Barnes Jr.', 'availability': ['Tuesday', 'Wednesday', 'Thursday', 'Sunday']}]\n"
          ]
        }
      ],
      "source": [
        "def available_on_night(gamers_list, day):\n",
        "\n",
        "  attending = []\n",
        "  for gamer in gamers_list:\n",
        "    if day in gamer['availability']:\n",
        "      attending.append(gamer)\n",
        "  return attending\n",
        "\n",
        "attending_game_night = available_on_night(gamers, game_night)\n",
        "print(attending_game_night)\n"
      ]
    },
    {
      "cell_type": "markdown",
      "metadata": {
        "id": "bpvzxIlnbssC"
      },
      "source": [
        "## Generating an E-mail for the Participants\n",
        "\n",
        "With the best day for Abruptly Goblins! determined with computer precision, we need to let the attendees know that the game night is on a night they can attend. Let's start by creating a form email to send to each of the participants that we'll fill out with data later.\n",
        "\n",
        "**Instructions**\n",
        "\n",
        "Define a string, called `form_email` with interpolation variables `{name}`, `{day_of_week}`, and `{game}` (in case we decide we want to use this featureset to host a different game night). Use it to tell your gaming attendees the night their Abruptly Goblins! game can be played."
      ]
    },
    {
      "cell_type": "code",
      "execution_count": null,
      "metadata": {
        "id": "8EynwSR9bssC"
      },
      "outputs": [],
      "source": [
        "name = \" \"\n",
        "day_of_week = \" \"\n",
        "game = \" \"\n",
        "form_email = f\"'Hello, '{name}, 'the Abruptly Goblins is on ' {day_of_week}, 'for the', {game} \""
      ]
    },
    {
      "cell_type": "markdown",
      "source": [],
      "metadata": {
        "id": "Vuxe8_qiOu1p"
      }
    },
    {
      "cell_type": "markdown",
      "metadata": {
        "id": "-7cfGBkcbssC"
      },
      "source": [
        "**Instructions**\n",
        "\n",
        "Create a function `send_email` with three parameters: `gamers_who_can_attend`, `day`, and `game`. Print `form_email` for each gamer in `gamers_who_can_attend` with the appropriate `day` and `game`.\n",
        "Call `send_email` with `attending_game_night`, `game_night`, and `\"Abruptly Goblins!\"`."
      ]
    },
    {
      "cell_type": "code",
      "execution_count": null,
      "metadata": {
        "id": "0aT28AcFbssC",
        "colab": {
          "base_uri": "https://localhost:8080/"
        },
        "outputId": "6214a75e-38a2-41e3-c75e-46a2170d83a8"
      },
      "outputs": [
        {
          "output_type": "stream",
          "name": "stdout",
          "text": [
            "Hello Thomas Nelson, the game Abruptly Goblins! is scheduled for Thursday. Hope you can make it!\n",
            "Hello Michelle Reyes, the game Abruptly Goblins! is scheduled for Thursday. Hope you can make it!\n",
            "Hello Stephen Adams, the game Abruptly Goblins! is scheduled for Thursday. Hope you can make it!\n",
            "Hello Joanne Lynn, the game Abruptly Goblins! is scheduled for Thursday. Hope you can make it!\n",
            "Hello Crystal Brewer, the game Abruptly Goblins! is scheduled for Thursday. Hope you can make it!\n",
            "Hello James Barnes Jr., the game Abruptly Goblins! is scheduled for Thursday. Hope you can make it!\n"
          ]
        }
      ],
      "source": [
        "def send_email(gamers_who_can_attend, day, game):\n",
        "\n",
        "  for attending_gamers in gamers_who_can_attend:\n",
        "    name = attending_gamers['name']\n",
        "    form_email = f\"Hello {name}, the game {game} is scheduled for {day}. Hope you can make it!\"\n",
        "    print(form_email)\n",
        "\n",
        "send_email(attending_game_night, game_night, \"Abruptly Goblins!\")\n"
      ]
    },
    {
      "cell_type": "markdown",
      "metadata": {
        "id": "5vHo467FbssC"
      },
      "source": [
        "### Afterward\n",
        "\n",
        "You feel bad for the folks who weren't able to attend on the decided upon game night, and try to use your currently written methods to have a second game night of the week.\n",
        "\n",
        "**Instructions**\n",
        "\n",
        "* Create a list `unable_to_attend_best_night` of everyone in `gamers` that wasn't able to attend game night on `game_night`.\n",
        "* Create `second_night_availability` frequency table by calling `build_daily_frequency_table`.\n",
        "* Call `calculate_availability` with `unable_to_attend_best_night` and `second_night_availability`.\n",
        "* Call `find_best_night` with the now filled-in `second_night_availability`, save the results in `second_night`.\n"
      ]
    },
    {
      "cell_type": "code",
      "execution_count": null,
      "metadata": {
        "id": "YQE2YKVzbssC"
      },
      "outputs": [],
      "source": [
        "\n",
        "def unable_to_attend_best_night(gamers_list, day):\n",
        "  unable_to_attend = []\n",
        "  for gamer in gamers_list:\n",
        "    if day not in gamer['availability']:\n",
        "      unable_to_attend.append(gamer)\n",
        "  return unable_to_attend\n",
        "\n",
        "second_night_availability = build_daily_frequency_table()\n",
        "\n",
        "gamers_cannot_attend = unable_to_attend_best_night(gamers, game_night)\n",
        "\n",
        "calculate_availability(gamers_cannot_attend, second_night_availability)\n",
        "second_night = find_best_night(second_night_availability)\n"
      ]
    },
    {
      "cell_type": "markdown",
      "metadata": {
        "id": "4wFWEIE8bssC"
      },
      "source": [
        "Let's send out an email to everyone (whether they can attend the first night or not) whose marked themselves as available on our second game night.\n",
        "\n",
        "**Instructions**\n",
        "\n",
        "* Create the list `available_second_game_night` by calling `available_on_night` with `gamers` and `second_night`\n",
        "* Let the gamers know by calling `send_email` with `available_second_game_night`, `second_night`, and \"Abruptly Goblins!\""
      ]
    },
    {
      "cell_type": "code",
      "execution_count": null,
      "metadata": {
        "id": "QqE6k13gbssC",
        "colab": {
          "base_uri": "https://localhost:8080/"
        },
        "outputId": "8837692b-aa6a-4b2e-ebe3-65cefc7b19dc"
      },
      "outputs": [
        {
          "output_type": "stream",
          "name": "stdout",
          "text": [
            "Hello Kimberly Warner , the game Abruptly Goblins! is scheduled for Monday. Hope you can make it!\n",
            "Hello Joyce Sellers, the game Abruptly Goblins! is scheduled for Monday. Hope you can make it!\n",
            "Hello Joanne Lynn, the game Abruptly Goblins! is scheduled for Monday. Hope you can make it!\n",
            "Hello Latasha Bryan, the game Abruptly Goblins! is scheduled for Monday. Hope you can make it!\n",
            "Hello Michel Trujillo, the game Abruptly Goblins! is scheduled for Monday. Hope you can make it!\n"
          ]
        }
      ],
      "source": [
        "available_second_game_night = available_on_night(gamers, second_night)\n",
        "send_email(available_second_game_night, second_night, \"Abruptly Goblins!\")"
      ]
    }
  ],
  "metadata": {
    "kernelspec": {
      "display_name": "Python 3",
      "language": "python",
      "name": "python3"
    },
    "language_info": {
      "codemirror_mode": {
        "name": "ipython",
        "version": 3
      },
      "file_extension": ".py",
      "mimetype": "text/x-python",
      "name": "python",
      "nbconvert_exporter": "python",
      "pygments_lexer": "ipython3",
      "version": "3.6.4"
    },
    "colab": {
      "provenance": [],
      "include_colab_link": true
    }
  },
  "nbformat": 4,
  "nbformat_minor": 0
}